{
 "cells": [
  {
   "cell_type": "code",
   "execution_count": 1,
   "metadata": {
    "colab": {
     "base_uri": "https://localhost:8080/",
     "height": 530
    },
    "colab_type": "code",
    "id": "0378MuThiz-H",
    "outputId": "f660bd4c-74dd-4ab6-ccc7-6ab1f932e925"
   },
   "outputs": [
    {
     "name": "stdout",
     "output_type": "stream",
     "text": [
      "Collecting tf-nightly-2.0-preview\n",
      "\u001b[?25l  Downloading https://files.pythonhosted.org/packages/80/92/7ae5e1499112fcaca72d8f6df47ce4206143c2dbd7c7cd1de29305ade060/tf_nightly_2.0_preview-2.0.0.dev20190405-cp36-cp36m-manylinux1_x86_64.whl (96.1MB)\n",
      "\u001b[K    100% |████████████████████████████████| 96.1MB 328kB/s \n",
      "\u001b[?25hRequirement already satisfied: six>=1.10.0 in /usr/local/lib/python3.6/dist-packages (from tf-nightly-2.0-preview) (1.11.0)\n",
      "Requirement already satisfied: numpy<2.0,>=1.14.5 in /usr/local/lib/python3.6/dist-packages (from tf-nightly-2.0-preview) (1.14.6)\n",
      "Requirement already satisfied: termcolor>=1.1.0 in /usr/local/lib/python3.6/dist-packages (from tf-nightly-2.0-preview) (1.1.0)\n",
      "Requirement already satisfied: keras-preprocessing>=1.0.5 in /usr/local/lib/python3.6/dist-packages (from tf-nightly-2.0-preview) (1.0.9)\n",
      "Collecting tb-nightly<1.15.0a0,>=1.14.0a0 (from tf-nightly-2.0-preview)\n",
      "\u001b[?25l  Downloading https://files.pythonhosted.org/packages/5d/17/a3d05a0664c11703259aa79d2b58b871b3bb1fff24153f75db04540489db/tb_nightly-1.14.0a20190319-py3-none-any.whl (3.0MB)\n",
      "\u001b[K    100% |████████████████████████████████| 3.0MB 10.5MB/s \n",
      "\u001b[?25hRequirement already satisfied: grpcio>=1.8.6 in /usr/local/lib/python3.6/dist-packages (from tf-nightly-2.0-preview) (1.15.0)\n",
      "Requirement already satisfied: astor>=0.6.0 in /usr/local/lib/python3.6/dist-packages (from tf-nightly-2.0-preview) (0.7.1)\n",
      "Requirement already satisfied: gast>=0.2.0 in /usr/local/lib/python3.6/dist-packages (from tf-nightly-2.0-preview) (0.2.2)\n",
      "Requirement already satisfied: keras-applications>=1.0.6 in /usr/local/lib/python3.6/dist-packages (from tf-nightly-2.0-preview) (1.0.7)\n",
      "Requirement already satisfied: absl-py>=0.7.0 in /usr/local/lib/python3.6/dist-packages (from tf-nightly-2.0-preview) (0.7.1)\n",
      "Requirement already satisfied: protobuf>=3.6.1 in /usr/local/lib/python3.6/dist-packages (from tf-nightly-2.0-preview) (3.7.1)\n",
      "Collecting tensorflow-estimator-2.0-preview (from tf-nightly-2.0-preview)\n",
      "\u001b[?25l  Downloading https://files.pythonhosted.org/packages/d3/37/d303130e264ae3ac03f4ff3aca01c60c96299db14f37e5d4096de1881e7d/tensorflow_estimator_2.0_preview-1.14.0.dev2019040500-py2.py3-none-any.whl (352kB)\n",
      "\u001b[K    100% |████████████████████████████████| 358kB 20.8MB/s \n",
      "\u001b[?25hRequirement already satisfied: wheel>=0.26 in /usr/local/lib/python3.6/dist-packages (from tf-nightly-2.0-preview) (0.33.1)\n",
      "Collecting google-pasta>=0.1.2 (from tf-nightly-2.0-preview)\n",
      "\u001b[?25l  Downloading https://files.pythonhosted.org/packages/8c/96/adbd4eafe72ce9b5ca6f168fbf109386e1b601f7c59926a11e9d7b7a5b44/google_pasta-0.1.4-py3-none-any.whl (51kB)\n",
      "\u001b[K    100% |████████████████████████████████| 61kB 25.0MB/s \n",
      "\u001b[?25hRequirement already satisfied: markdown>=2.6.8 in /usr/local/lib/python3.6/dist-packages (from tb-nightly<1.15.0a0,>=1.14.0a0->tf-nightly-2.0-preview) (3.1)\n",
      "Requirement already satisfied: werkzeug>=0.11.15 in /usr/local/lib/python3.6/dist-packages (from tb-nightly<1.15.0a0,>=1.14.0a0->tf-nightly-2.0-preview) (0.15.2)\n",
      "Requirement already satisfied: h5py in /usr/local/lib/python3.6/dist-packages (from keras-applications>=1.0.6->tf-nightly-2.0-preview) (2.8.0)\n",
      "Requirement already satisfied: setuptools in /usr/local/lib/python3.6/dist-packages (from protobuf>=3.6.1->tf-nightly-2.0-preview) (40.8.0)\n",
      "Installing collected packages: tb-nightly, tensorflow-estimator-2.0-preview, google-pasta, tf-nightly-2.0-preview\n",
      "Successfully installed google-pasta-0.1.4 tb-nightly-1.14.0a20190319 tensorflow-estimator-2.0-preview-1.14.0.dev2019040500 tf-nightly-2.0-preview-2.0.0.dev20190405\n"
     ]
    }
   ],
   "source": [
    "from __future__ import absolute_import, division, print_function\n",
    "\n",
    "# !pip install -q tensorflow-gpu==2.0.0-alpha0\n",
    "!pip install tf-nightly-2.0-preview\n",
    "\n",
    "import tensorflow as tf\n",
    "# import tensorflow.contrib.eager as tfe\n",
    "\n",
    "import matplotlib.pyplot as plt\n",
    "from sklearn.model_selection import train_test_split\n",
    "\n",
    "import unicodedata\n",
    "import re\n",
    "import numpy as np\n",
    "import os\n",
    "import io\n",
    "import time\n"
   ]
  },
  {
   "cell_type": "markdown",
   "metadata": {
    "colab_type": "text",
    "id": "1bAdVBO99kkj"
   },
   "source": [
    "## 1. Preprocess the Data 'fra.txt'"
   ]
  },
  {
   "cell_type": "code",
   "execution_count": 0,
   "metadata": {
    "colab": {},
    "colab_type": "code",
    "id": "hKqMMVoOhsGV"
   },
   "outputs": [],
   "source": [
    "def unicode_to_ascii(s):\n",
    "    return ''.join(c for c in unicodedata.normalize('NFD', s)\n",
    "        if unicodedata.category(c) != 'Mn')\n",
    "\n",
    "\n",
    "def preprocess_sentence(w):\n",
    "    w = unicode_to_ascii(w.lower().strip())\n",
    "    \n",
    "    # creating a space between a word and the punctuation following it\n",
    "    # eg: \"he is a boy.\" => \"he is a boy .\" \n",
    "    # Reference:- https://stackoverflow.com/questions/3645931/python-padding-punctuation-with-white-spaces-keeping-punctuation\n",
    "    w = re.sub(r\"([?.!,¿])\", r\" \\1 \", w)\n",
    "    w = re.sub(r'[\" \"]+', \" \", w)\n",
    "    \n",
    "    # replacing everything with space except (a-z, A-Z, \".\", \"?\", \"!\", \",\")\n",
    "    w = re.sub(r\"[^a-zA-Z?.!,¿]+\", \" \", w)\n",
    "    \n",
    "    w = w.rstrip().strip()\n",
    "    \n",
    "    # adding a start and an end token to the sentence\n",
    "    # so that the model know when to start and stop predicting.\n",
    "    w = '<start> ' + w + ' <end>'\n",
    "    return w"
   ]
  },
  {
   "cell_type": "code",
   "execution_count": 0,
   "metadata": {
    "colab": {},
    "colab_type": "code",
    "id": "qaBaP2FNh7NF"
   },
   "outputs": [],
   "source": [
    "# 1. Remove the accents\n",
    "# 2. Clean the sentences\n",
    "# 3. Return word pairs in the format: [ENGLISH, FRENCH]\n",
    "def create_dataset(path, num_examples):\n",
    "    lines = io.open(path, encoding='UTF-8').read().strip().split('\\n')\n",
    "    \n",
    "    word_pairs = [[preprocess_sentence(w) for w in l.split('\\t')]  for l in lines[:num_examples]]\n",
    "    \n",
    "    return zip(*word_pairs)"
   ]
  },
  {
   "cell_type": "code",
   "execution_count": 4,
   "metadata": {
    "colab": {
     "base_uri": "https://localhost:8080/",
     "height": 51
    },
    "colab_type": "code",
    "id": "VcmGn0b3ii2_",
    "outputId": "3df79e96-5f20-4259-dccd-b89f020c021b"
   },
   "outputs": [
    {
     "name": "stdout",
     "output_type": "stream",
     "text": [
      "<start> hi . <end>\n",
      "<start> salut ! <end>\n"
     ]
    }
   ],
   "source": [
    "path_to_file = 'fra.txt'\n",
    "en, fr = create_dataset(path_to_file, None)\n",
    "print(en[1])\n",
    "print(fr[1])"
   ]
  },
  {
   "cell_type": "code",
   "execution_count": 0,
   "metadata": {
    "colab": {},
    "colab_type": "code",
    "id": "rOezOT-7iwyb"
   },
   "outputs": [],
   "source": [
    "def max_length(tensor):\n",
    "    return max(len(t) for t in tensor)\n",
    "  \n",
    "def tokenize(lang):\n",
    "  lang_tokenizer = tf.keras.preprocessing.text.Tokenizer(\n",
    "      filters='')\n",
    "  lang_tokenizer.fit_on_texts(lang)\n",
    "  \n",
    "  tensor = lang_tokenizer.texts_to_sequences(lang)\n",
    "  \n",
    "  tensor = tf.keras.preprocessing.sequence.pad_sequences(tensor,\n",
    "                                                         padding='post')\n",
    "  \n",
    "  return tensor, lang_tokenizer\n",
    "\n",
    "def load_dataset(path, num_examples=None):\n",
    "    # creating cleaned input, output pairs\n",
    "    inp_lang, targ_lang = create_dataset(path, num_examples)\n",
    "\n",
    "    input_tensor, inp_lang_tokenizer = tokenize(inp_lang)\n",
    "    target_tensor, targ_lang_tokenizer = tokenize(targ_lang)\n",
    "\n",
    "    return input_tensor, target_tensor, inp_lang_tokenizer, targ_lang_tokenizer"
   ]
  },
  {
   "cell_type": "code",
   "execution_count": 0,
   "metadata": {
    "colab": {},
    "colab_type": "code",
    "id": "RUQuxubljFrB"
   },
   "outputs": [],
   "source": [
    "# Experiment on 10000 samples from the dataset\n",
    "num_samples = 10000\n",
    "input_tensor, target_tensor, inp_lang, targ_lang = load_dataset(path_to_file, num_samples)\n",
    "\n",
    "# Calculate max_length of the target tensors\n",
    "max_length_targ, max_length_inp = max_length(target_tensor), max_length(input_tensor)\n",
    "\n"
   ]
  },
  {
   "cell_type": "code",
   "execution_count": 7,
   "metadata": {
    "colab": {
     "base_uri": "https://localhost:8080/",
     "height": 34
    },
    "colab_type": "code",
    "id": "qRBrAuuVjQGD",
    "outputId": "45f9db15-d1df-4b16-cabe-5b8155897ee6"
   },
   "outputs": [
    {
     "name": "stdout",
     "output_type": "stream",
     "text": [
      "input tensor length: 8000 target tensor length: 8000 input validation length:2000 target validation length: 2000\n"
     ]
    }
   ],
   "source": [
    "# Creating training and validation sets using an 80-20 split\n",
    "input_tensor_train, input_tensor_val, target_tensor_train, target_tensor_val = train_test_split(input_tensor, target_tensor, test_size=0.2)\n",
    "\n",
    "# Show length\n",
    "print(\"input tensor length: {} target tensor length: {} input validation length:{} target validation length: {}\".format(len(input_tensor_train), len(target_tensor_train), len(input_tensor_val), len(target_tensor_val)))\n"
   ]
  },
  {
   "cell_type": "code",
   "execution_count": 0,
   "metadata": {
    "colab": {},
    "colab_type": "code",
    "id": "eI0zTHdCjabj"
   },
   "outputs": [],
   "source": [
    "def convert(lang, tensor):\n",
    "  for t in tensor:\n",
    "    if t!=0:\n",
    "      print (\"%d ----> %s\" % (t, lang.index_word[t]))"
   ]
  },
  {
   "cell_type": "code",
   "execution_count": 9,
   "metadata": {
    "colab": {
     "base_uri": "https://localhost:8080/",
     "height": 306
    },
    "colab_type": "code",
    "id": "iu0fbbWlj3bm",
    "outputId": "5732c825-3d9c-4184-c9a8-2dfe9c998f57"
   },
   "outputs": [
    {
     "name": "stdout",
     "output_type": "stream",
     "text": [
      "Input Language; index to word mapping\n",
      "1 ----> <start>\n",
      "4 ----> i\n",
      "25 ----> can\n",
      "27 ----> do\n",
      "7 ----> it\n",
      "3 ----> .\n",
      "2 ----> <end>\n",
      "\n",
      "Target Language; index to word mapping\n",
      "1 ----> <start>\n",
      "4 ----> je\n",
      "75 ----> peux\n",
      "17 ----> le\n",
      "85 ----> faire\n",
      "3 ----> .\n",
      "2 ----> <end>\n"
     ]
    }
   ],
   "source": [
    "print (\"Input Language; index to word mapping\")\n",
    "convert(inp_lang, input_tensor_train[3])\n",
    "print ()\n",
    "print (\"Target Language; index to word mapping\")\n",
    "convert(targ_lang, target_tensor_train[3])"
   ]
  },
  {
   "cell_type": "code",
   "execution_count": 0,
   "metadata": {
    "colab": {},
    "colab_type": "code",
    "id": "WJelyKVbidaf"
   },
   "outputs": [],
   "source": [
    "BUFFER_SIZE = len(input_tensor_train)\n",
    "BATCH_SIZE = 64\n",
    "steps_per_epoch = len(input_tensor_train)//BATCH_SIZE\n",
    "latent_dim = 256\n",
    "units = 1024\n",
    "vocab_inp_size = len(inp_lang.word_index)+1\n",
    "vocab_tar_size = len(targ_lang.word_index)+1\n",
    "\n",
    "dataset = tf.data.Dataset.from_tensor_slices((input_tensor_train, target_tensor_train)).shuffle(BUFFER_SIZE)\n",
    "dataset = dataset.batch(BATCH_SIZE, drop_remainder=True)"
   ]
  },
  {
   "cell_type": "code",
   "execution_count": 13,
   "metadata": {
    "colab": {
     "base_uri": "https://localhost:8080/",
     "height": 34
    },
    "colab_type": "code",
    "id": "Sd7RaCrfkpFW",
    "outputId": "e340797e-abf8-457e-bb78-ad54cf1490cb"
   },
   "outputs": [
    {
     "data": {
      "text/plain": [
       "(TensorShape([64, 8]), TensorShape([64, 15]))"
      ]
     },
     "execution_count": 13,
     "metadata": {
      "tags": []
     },
     "output_type": "execute_result"
    }
   ],
   "source": [
    "# Show the shape of the tensor\n",
    "example_input_batch, example_target_batch = next(iter(dataset))\n",
    "example_input_batch.shape, example_target_batch.shape"
   ]
  },
  {
   "cell_type": "markdown",
   "metadata": {
    "colab_type": "text",
    "id": "XCq600bP-bKL"
   },
   "source": [
    "## 2.1 Encoder:\n",
    "First embed the input words inside English sentence with 256 dimension of embedding, then pass into the one-layer LSTM with 1024 units. "
   ]
  },
  {
   "cell_type": "code",
   "execution_count": 0,
   "metadata": {
    "colab": {},
    "colab_type": "code",
    "id": "UB4yRl3ekya6"
   },
   "outputs": [],
   "source": [
    "class Encoder(tf.keras.Model):\n",
    "  def __init__(self, vocab_size, latent_dim, enc_units, batch_sz):\n",
    "    super(Encoder, self).__init__()\n",
    "    self.batch_sz = batch_sz\n",
    "    self.enc_units = enc_units\n",
    "    self.embedding = tf.keras.layers.Embedding(vocab_size, latent_dim)\n",
    "    self.lstm = tf.keras.layers.LSTM(self.enc_units,\n",
    "                                 return_sequences=True, \n",
    "                                 return_state=True)\n",
    "\n",
    "  def call(self, x, hidden, cell):\n",
    "    x = self.embedding(x)\n",
    "    #Pass the embedding of x into LSTM\n",
    "    outputs = self.lstm(x, initial_state=[hidden,cell]) \n",
    "    output = outputs[0]\n",
    "    state = outputs[1:]\n",
    "    return output, state[0], state[1]\n",
    "\n",
    "  def initialize_hidden_state(self):\n",
    "    return (tf.zeros((self.batch_sz, self.enc_units)),\n",
    "            tf.zeros((self.batch_sz, self.enc_units)))"
   ]
  },
  {
   "cell_type": "code",
   "execution_count": 0,
   "metadata": {
    "colab": {},
    "colab_type": "code",
    "id": "Z3K0to6EmLLg"
   },
   "outputs": [],
   "source": [
    "# Initializa the Encoder with input vocab size for the one-hot encoder of word index\n",
    "encoder = Encoder(vocab_inp_size, latent_dim, units, BATCH_SIZE)"
   ]
  },
  {
   "cell_type": "markdown",
   "metadata": {
    "colab_type": "text",
    "id": "JEKrI7WA_E1_"
   },
   "source": [
    "## 2.2 Decoder\n",
    "First embed the decoder input word with 256 dimension vector embedding, then pass into another 1024-unit output LSTM. <br>\n",
    "During the **training stage**, the input of the (t+1) LSTM hidden state is the gold (t+1)th word in the output sentence. The output has been padded with 'START' and 'END'. <br>\n",
    "When run the evaluation on the **validation(test) dataset**, the input of t-th hidden state is taking the largest index from the softmax output of the (t-1)th hidden layer. Since the hidden state of the (t-1)th hidden layer is passed onto (t)-th hidden state, here I set return-state=True.\n"
   ]
  },
  {
   "cell_type": "code",
   "execution_count": 0,
   "metadata": {
    "colab": {},
    "colab_type": "code",
    "id": "MMIkLSorPK-n"
   },
   "outputs": [],
   "source": [
    "class Decoder(tf.keras.Model):\n",
    "  def __init__(self, vocab_size, latent_dim, dec_units, batch_sz):\n",
    "    super(Decoder, self).__init__()\n",
    "    self.batch_sz = batch_sz\n",
    "    self.dec_units = dec_units\n",
    "    self.embedding = tf.keras.layers.Embedding(vocab_size, latent_dim)\n",
    "    self.lstm = tf.keras.layers.LSTM(self.dec_units, \n",
    "                                   return_sequences=True, \n",
    "                                   return_state=True,\n",
    "                                     recurrent_initializer='glorot_uniform')\n",
    "    #The decoder here doesn't use the softmax activation, however, in the optimization I used the from_logits=True\n",
    "    #which takes the softmax from the output dense layer, and output the same dimension vector with sum=1\n",
    "    self.dense = tf.keras.layers.Dense(vocab_size)\n",
    "\n",
    "  def call(self, x, hidden, cell):\n",
    "    # x shape after passing through embedding == (batch_size, 1, embedding_dim)\n",
    "    x = self.embedding(x)\n",
    "    # passing the embedded x into LSTM with encoder as initializer\n",
    "    output, state, cell = self.lstm(x, initial_state=[hidden, cell])\n",
    "    x = self.dense(output)\n",
    "    return x, state, cell"
   ]
  },
  {
   "cell_type": "code",
   "execution_count": 0,
   "metadata": {
    "colab": {},
    "colab_type": "code",
    "id": "g1PHkjlbCVPf"
   },
   "outputs": [],
   "source": [
    "decoder = Decoder(vocab_tar_size, latent_dim, units, BATCH_SIZE)"
   ]
  },
  {
   "cell_type": "markdown",
   "metadata": {
    "colab_type": "text",
    "id": "HNj25A3sAtI7"
   },
   "source": [
    "## 2.3 Loss Function\n",
    "The loss function is the Categorical Crossentropy summed over all hidden state outputs of the decoder. <br>\n",
    "$\\text{from_logits=True}$ calculates the softmax from decoder dense layer output."
   ]
  },
  {
   "cell_type": "code",
   "execution_count": 0,
   "metadata": {
    "colab": {},
    "colab_type": "code",
    "id": "0fbcJMsvPr_t"
   },
   "outputs": [],
   "source": [
    "optimizer = tf.keras.optimizers.Adam()\n",
    "loss_object = tf.keras.losses.SparseCategoricalCrossentropy(from_logits=True)\n",
    "\n",
    "def loss_function(real, pred):\n",
    "  mask = tf.math.logical_not(tf.math.equal(real, 0))\n",
    "  loss_ = loss_object(real, pred)\n",
    "\n",
    "  mask = tf.cast(mask, dtype=loss_.dtype)\n",
    "  loss_ *= mask\n",
    "  \n",
    "  return tf.reduce_mean(loss_)\n"
   ]
  },
  {
   "cell_type": "code",
   "execution_count": 0,
   "metadata": {
    "colab": {},
    "colab_type": "code",
    "id": "AL-_yUMNx1tG"
   },
   "outputs": [],
   "source": [
    "checkpoint_dir = './training_checkpoints'\n",
    "checkpoint_prefix = os.path.join(checkpoint_dir, \"ckpt\")\n",
    "checkpoint = tf.train.Checkpoint(optimizer=optimizer,\n",
    "                                 encoder=encoder,\n",
    "                                 decoder=decoder)"
   ]
  },
  {
   "cell_type": "markdown",
   "metadata": {
    "colab_type": "text",
    "id": "aK5cxzSmA9m_"
   },
   "source": [
    "## 3.1 Training Step --- Teacher-forcing with the gold target as the next decoder's input."
   ]
  },
  {
   "cell_type": "code",
   "execution_count": 0,
   "metadata": {
    "colab": {},
    "colab_type": "code",
    "id": "klxM_4JqyDO7"
   },
   "outputs": [],
   "source": [
    "def train_step(inp, targ, enc_hidden,enc_cell):\n",
    "  loss = 0\n",
    "  reg_lambda = 0.0008\n",
    "  with tf.GradientTape() as tape:\n",
    "    enc_output, enc_hidden, enc_cell = encoder(inp, enc_hidden, enc_cell)\n",
    "    dec_hidden = enc_hidden\n",
    "    dec_cell = enc_cell\n",
    "    dec_input = tf.expand_dims([targ_lang.word_index['<start>']] * BATCH_SIZE, 1)       \n",
    "\n",
    "    # Teacher forcing - feeding the target as the next input\n",
    "    for t in range(1, targ.shape[1]):\n",
    "      # passing enc_output to the decoder\n",
    "      logits, dec_hidden, dec_cell = decoder(dec_input, dec_hidden, dec_cell)\n",
    "      loss += loss_function(targ[:, t], logits)\n",
    "      \n",
    "  # using teacher forcing\n",
    "      dec_input = tf.expand_dims(targ[:, t], 1)\n",
    "    \n",
    "    variables = encoder.trainable_variables + decoder.trainable_variables\n",
    "  # add regularization:\n",
    "    for v in variables:\n",
    "        loss += reg_lambda*tf.reduce_sum(tf.pow(v,2))\n",
    "  batch_loss = (loss/int(targ.shape[1]))\n",
    "\n",
    "  gradients = tape.gradient(loss, variables)\n",
    "  \n",
    "  optimizer.apply_gradients(zip(gradients, variables))\n",
    "  \n",
    "  return batch_loss"
   ]
  },
  {
   "cell_type": "markdown",
   "metadata": {
    "colab_type": "text",
    "id": "0-sN2XVJBHjU"
   },
   "source": [
    "## 3.2 Test Step --- Run test on the validation every epoch."
   ]
  },
  {
   "cell_type": "code",
   "execution_count": 0,
   "metadata": {
    "colab": {},
    "colab_type": "code",
    "id": "KvQM2xgLzREZ"
   },
   "outputs": [],
   "source": [
    "def test_step(inp, targ, enc_hidden_test, enc_cell_test):\n",
    "  loss = 0\n",
    "  enc_output_test, enc_hidden_test, enc_cell_test = encoder(inp, enc_hidden_test, enc_cell_test)\n",
    "  dec_hidden_test = enc_hidden_test\n",
    "  dec_cell_test = enc_cell_test\n",
    "  dec_input = tf.expand_dims([targ_lang.word_index['<start>']] * input_tensor_val.shape[0], 1)\n",
    "  \n",
    "  for t in range(1, targ.shape[1]):\n",
    "    # passing enc_output to the decoder\n",
    "    \n",
    "    logits, dec_hidden_test, dec_cell_test = decoder(dec_input, dec_hidden_test, dec_cell_test)\n",
    "    predicted_id = tf.argmax(logits,axis =-1).numpy()\n",
    "    loss += loss_function(targ[:, t], logits)\n",
    "    # using t-1 prediction as input for t\n",
    "    dec_input = predicted_id\n",
    "    \n",
    "  test_loss = (loss/int(targ.shape[1]))\n",
    "  return test_loss"
   ]
  },
  {
   "cell_type": "markdown",
   "metadata": {
    "colab_type": "text",
    "id": "ijZh6hDbBWeG"
   },
   "source": [
    "**I have stored the checkpoint every 20 expochs in case the system disconnected during the training, as well as the training and test loss.** <br>\n",
    "\n",
    "The following just provides the training and test loss for the last 40 epochs"
   ]
  },
  {
   "cell_type": "code",
   "execution_count": 26,
   "metadata": {
    "colab": {
     "base_uri": "https://localhost:8080/",
     "height": 9843
    },
    "colab_type": "code",
    "id": "urqNcYHWN49O",
    "outputId": "cba70e69-1ce7-4b19-9ab8-846dddb82bb9",
    "scrolled": true
   },
   "outputs": [
    {
     "name": "stdout",
     "output_type": "stream",
     "text": [
      "Epoch 67 Batch 0 TrainLoss 0.6902\n",
      "Epoch 67 Batch 10 TrainLoss 0.7668\n",
      "Epoch 67 Batch 20 TrainLoss 0.8669\n",
      "Epoch 67 Batch 30 TrainLoss 0.7762\n",
      "Epoch 67 Batch 40 TrainLoss 0.7678\n",
      "Epoch 67 Batch 50 TrainLoss 0.7658\n",
      "Epoch 67 Batch 60 TrainLoss 0.7800\n",
      "Epoch 67 Batch 70 TrainLoss 0.8018\n",
      "Epoch 67 Batch 80 TrainLoss 0.7527\n",
      "Epoch 67 Batch 90 TrainLoss 0.7505\n",
      "Epoch 67 Batch 100 TrainLoss 0.8099\n",
      "Epoch 67 Batch 110 TrainLoss 0.7751\n",
      "Epoch 67 Batch 120 TrainLoss 0.7992\n",
      "Epoch 67 TestLoss 1.0689\n",
      "Epoch 67 TrainLoss 0.7931\n",
      "Time taken for 1 epoch 461.2321517467499 sec\n",
      "\n",
      "Epoch 68 Batch 0 TrainLoss 0.6759\n",
      "Epoch 68 Batch 10 TrainLoss 0.6971\n",
      "Epoch 68 Batch 20 TrainLoss 0.7392\n",
      "Epoch 68 Batch 30 TrainLoss 0.6847\n",
      "Epoch 68 Batch 40 TrainLoss 0.6794\n",
      "Epoch 68 Batch 50 TrainLoss 0.6849\n",
      "Epoch 68 Batch 60 TrainLoss 0.6818\n",
      "Epoch 68 Batch 70 TrainLoss 0.6844\n",
      "Epoch 68 Batch 80 TrainLoss 0.6534\n",
      "Epoch 68 Batch 90 TrainLoss 0.6710\n",
      "Epoch 68 Batch 100 TrainLoss 0.7133\n",
      "Epoch 68 Batch 110 TrainLoss 0.6811\n",
      "Epoch 68 Batch 120 TrainLoss 0.6918\n",
      "Epoch 68 TestLoss 1.1138\n",
      "Epoch 68 TrainLoss 0.6950\n",
      "Time taken for 1 epoch 458.8412308692932 sec\n",
      "\n",
      "Epoch 69 Batch 0 TrainLoss 0.6152\n",
      "Epoch 69 Batch 10 TrainLoss 0.6354\n",
      "Epoch 69 Batch 20 TrainLoss 0.6875\n",
      "Epoch 69 Batch 30 TrainLoss 0.6393\n",
      "Epoch 69 Batch 40 TrainLoss 0.6457\n",
      "Epoch 69 Batch 50 TrainLoss 0.6288\n",
      "Epoch 69 Batch 60 TrainLoss 0.6339\n",
      "Epoch 69 Batch 70 TrainLoss 0.6259\n",
      "Epoch 69 Batch 80 TrainLoss 0.5953\n",
      "Epoch 69 Batch 90 TrainLoss 0.6242\n",
      "Epoch 69 Batch 100 TrainLoss 0.6578\n",
      "Epoch 69 Batch 110 TrainLoss 0.6247\n",
      "Epoch 69 Batch 120 TrainLoss 0.6442\n",
      "Epoch 69 TestLoss 1.1571\n",
      "Epoch 69 TrainLoss 0.6455\n",
      "Time taken for 1 epoch 459.76593470573425 sec\n",
      "\n",
      "Epoch 70 Batch 0 TrainLoss 0.5913\n",
      "Epoch 70 Batch 10 TrainLoss 0.6042\n",
      "Epoch 70 Batch 20 TrainLoss 0.6377\n",
      "Epoch 70 Batch 30 TrainLoss 0.6118\n",
      "Epoch 70 Batch 40 TrainLoss 0.6115\n",
      "Epoch 70 Batch 50 TrainLoss 0.6090\n",
      "Epoch 70 Batch 60 TrainLoss 0.6122\n",
      "Epoch 70 Batch 70 TrainLoss 0.6107\n",
      "Epoch 70 Batch 80 TrainLoss 0.5728\n",
      "Epoch 70 Batch 90 TrainLoss 0.6054\n",
      "Epoch 70 Batch 100 TrainLoss 0.6299\n",
      "Epoch 70 Batch 110 TrainLoss 0.6107\n",
      "Epoch 70 Batch 120 TrainLoss 0.6154\n",
      "Epoch 70 TestLoss 1.1941\n",
      "Epoch 70 TrainLoss 0.6199\n",
      "Time taken for 1 epoch 458.7862694263458 sec\n",
      "\n",
      "Epoch 71 Batch 0 TrainLoss 0.5912\n",
      "Epoch 71 Batch 10 TrainLoss 0.5903\n",
      "Epoch 71 Batch 20 TrainLoss 0.6288\n",
      "Epoch 71 Batch 30 TrainLoss 0.6039\n",
      "Epoch 71 Batch 40 TrainLoss 0.6103\n",
      "Epoch 71 Batch 50 TrainLoss 0.5999\n",
      "Epoch 71 Batch 60 TrainLoss 0.6032\n",
      "Epoch 71 Batch 70 TrainLoss 0.6196\n",
      "Epoch 71 Batch 80 TrainLoss 0.5678\n",
      "Epoch 71 Batch 90 TrainLoss 0.6007\n",
      "Epoch 71 Batch 100 TrainLoss 0.6493\n",
      "Epoch 71 Batch 110 TrainLoss 0.6192\n",
      "Epoch 71 Batch 120 TrainLoss 0.6307\n",
      "Epoch 71 TestLoss 1.2227\n",
      "Epoch 71 TrainLoss 0.6142\n",
      "Time taken for 1 epoch 458.0644347667694 sec\n",
      "\n",
      "Epoch 72 Batch 0 TrainLoss 0.5942\n",
      "Epoch 72 Batch 10 TrainLoss 0.5935\n",
      "Epoch 72 Batch 20 TrainLoss 0.6301\n",
      "Epoch 72 Batch 30 TrainLoss 0.6077\n",
      "Epoch 72 Batch 40 TrainLoss 0.6114\n",
      "Epoch 72 Batch 50 TrainLoss 0.6107\n",
      "Epoch 72 Batch 60 TrainLoss 0.6128\n",
      "Epoch 72 Batch 70 TrainLoss 0.6062\n",
      "Epoch 72 Batch 80 TrainLoss 0.5830\n",
      "Epoch 72 Batch 90 TrainLoss 0.6095\n",
      "Epoch 72 Batch 100 TrainLoss 0.6299\n",
      "Epoch 72 Batch 110 TrainLoss 0.6225\n",
      "Epoch 72 Batch 120 TrainLoss 0.6166\n",
      "Epoch 72 TestLoss 1.2684\n",
      "Epoch 72 TrainLoss 0.6173\n",
      "Time taken for 1 epoch 456.87187910079956 sec\n",
      "\n",
      "Epoch 73 Batch 0 TrainLoss 0.5896\n",
      "Epoch 73 Batch 10 TrainLoss 0.6224\n",
      "Epoch 73 Batch 20 TrainLoss 0.6486\n",
      "Epoch 73 Batch 30 TrainLoss 0.6152\n",
      "Epoch 73 Batch 40 TrainLoss 0.6184\n",
      "Epoch 73 Batch 50 TrainLoss 0.6062\n",
      "Epoch 73 Batch 60 TrainLoss 0.6236\n",
      "Epoch 73 Batch 70 TrainLoss 0.6163\n",
      "Epoch 73 Batch 80 TrainLoss 0.5771\n",
      "Epoch 73 Batch 90 TrainLoss 0.5988\n",
      "Epoch 73 Batch 100 TrainLoss 0.6124\n",
      "Epoch 73 Batch 110 TrainLoss 0.6096\n",
      "Epoch 73 Batch 120 TrainLoss 0.6208\n",
      "Epoch 73 TestLoss 1.3305\n",
      "Epoch 73 TrainLoss 0.6193\n",
      "Time taken for 1 epoch 457.7679738998413 sec\n",
      "\n",
      "Epoch 74 Batch 0 TrainLoss 0.5965\n",
      "Epoch 74 Batch 10 TrainLoss 0.6009\n",
      "Epoch 74 Batch 20 TrainLoss 0.6310\n",
      "Epoch 74 Batch 30 TrainLoss 0.6229\n",
      "Epoch 74 Batch 40 TrainLoss 0.6246\n",
      "Epoch 74 Batch 50 TrainLoss 0.5920\n",
      "Epoch 74 Batch 60 TrainLoss 0.6075\n",
      "Epoch 74 Batch 70 TrainLoss 0.6038\n",
      "Epoch 74 Batch 80 TrainLoss 0.5929\n",
      "Epoch 74 Batch 90 TrainLoss 0.5807\n",
      "Epoch 74 Batch 100 TrainLoss 0.6104\n",
      "Epoch 74 Batch 110 TrainLoss 0.5981\n",
      "Epoch 74 Batch 120 TrainLoss 0.5900\n",
      "Epoch 74 TestLoss 1.3367\n",
      "Epoch 74 TrainLoss 0.6121\n",
      "Time taken for 1 epoch 451.90418553352356 sec\n",
      "\n",
      "Epoch 75 Batch 0 TrainLoss 0.5744\n",
      "Epoch 75 Batch 10 TrainLoss 0.5975\n",
      "Epoch 75 Batch 20 TrainLoss 0.6230\n",
      "Epoch 75 Batch 30 TrainLoss 0.6285\n",
      "Epoch 75 Batch 40 TrainLoss 0.6246\n",
      "Epoch 75 Batch 50 TrainLoss 0.5880\n",
      "Epoch 75 Batch 60 TrainLoss 0.6021\n",
      "Epoch 75 Batch 70 TrainLoss 0.5890\n",
      "Epoch 75 Batch 80 TrainLoss 0.5499\n",
      "Epoch 75 Batch 90 TrainLoss 0.5630\n",
      "Epoch 75 Batch 100 TrainLoss 0.6016\n",
      "Epoch 75 Batch 110 TrainLoss 0.5857\n",
      "Epoch 75 Batch 120 TrainLoss 0.5792\n",
      "Epoch 75 TestLoss 1.2999\n",
      "Epoch 75 TrainLoss 0.5987\n",
      "Time taken for 1 epoch 452.23355078697205 sec\n",
      "\n",
      "Epoch 76 Batch 0 TrainLoss 0.5628\n",
      "Epoch 76 Batch 10 TrainLoss 0.5776\n",
      "Epoch 76 Batch 20 TrainLoss 0.5955\n",
      "Epoch 76 Batch 30 TrainLoss 0.5899\n",
      "Epoch 76 Batch 40 TrainLoss 0.5927\n",
      "Epoch 76 Batch 50 TrainLoss 0.5771\n",
      "Epoch 76 Batch 60 TrainLoss 0.5841\n",
      "Epoch 76 Batch 70 TrainLoss 0.5674\n",
      "Epoch 76 Batch 80 TrainLoss 0.5468\n",
      "Epoch 76 Batch 90 TrainLoss 0.5576\n",
      "Epoch 76 Batch 100 TrainLoss 0.5806\n",
      "Epoch 76 Batch 110 TrainLoss 0.5622\n",
      "Epoch 76 Batch 120 TrainLoss 0.5639\n",
      "Epoch 76 TestLoss 1.3010\n",
      "Epoch 76 TrainLoss 0.5811\n",
      "Time taken for 1 epoch 458.4647285938263 sec\n",
      "\n",
      "Epoch 77 Batch 0 TrainLoss 0.5534\n",
      "Epoch 77 Batch 10 TrainLoss 0.5714\n",
      "Epoch 77 Batch 20 TrainLoss 0.5980\n",
      "Epoch 77 Batch 30 TrainLoss 0.5752\n",
      "Epoch 77 Batch 40 TrainLoss 0.5643\n",
      "Epoch 77 Batch 50 TrainLoss 0.5679\n",
      "Epoch 77 Batch 60 TrainLoss 0.5705\n",
      "Epoch 77 Batch 70 TrainLoss 0.5549\n",
      "Epoch 77 Batch 80 TrainLoss 0.5369\n",
      "Epoch 77 Batch 90 TrainLoss 0.5414\n",
      "Epoch 77 Batch 100 TrainLoss 0.5749\n",
      "Epoch 77 Batch 110 TrainLoss 0.5706\n",
      "Epoch 77 Batch 120 TrainLoss 0.5695\n",
      "Epoch 77 TestLoss 1.2875\n",
      "Epoch 77 TrainLoss 0.5676\n",
      "Time taken for 1 epoch 460.9551577568054 sec\n",
      "\n",
      "Epoch 78 Batch 0 TrainLoss 0.5505\n",
      "Epoch 78 Batch 10 TrainLoss 0.5374\n",
      "Epoch 78 Batch 20 TrainLoss 0.5859\n",
      "Epoch 78 Batch 30 TrainLoss 0.5734\n",
      "Epoch 78 Batch 40 TrainLoss 0.5618\n",
      "Epoch 78 Batch 50 TrainLoss 0.5559\n",
      "Epoch 78 Batch 60 TrainLoss 0.5636\n",
      "Epoch 78 Batch 70 TrainLoss 0.5616\n",
      "Epoch 78 Batch 80 TrainLoss 0.5318\n",
      "Epoch 78 Batch 90 TrainLoss 0.5350\n",
      "Epoch 78 Batch 100 TrainLoss 0.5590\n",
      "Epoch 78 Batch 110 TrainLoss 0.5430\n",
      "Epoch 78 Batch 120 TrainLoss 0.5541\n",
      "Epoch 78 TestLoss 1.3162\n",
      "Epoch 78 TrainLoss 0.5611\n",
      "Time taken for 1 epoch 459.71789956092834 sec\n",
      "\n",
      "Epoch 79 Batch 0 TrainLoss 0.5456\n",
      "Epoch 79 Batch 10 TrainLoss 0.5334\n",
      "Epoch 79 Batch 20 TrainLoss 0.5874\n",
      "Epoch 79 Batch 30 TrainLoss 0.5609\n",
      "Epoch 79 Batch 40 TrainLoss 0.5630\n",
      "Epoch 79 Batch 50 TrainLoss 0.5557\n",
      "Epoch 79 Batch 60 TrainLoss 0.5599\n",
      "Epoch 79 Batch 70 TrainLoss 0.5552\n",
      "Epoch 79 Batch 80 TrainLoss 0.5336\n",
      "Epoch 79 Batch 90 TrainLoss 0.5461\n",
      "Epoch 79 Batch 100 TrainLoss 0.5570\n",
      "Epoch 79 Batch 110 TrainLoss 0.5428\n",
      "Epoch 79 Batch 120 TrainLoss 0.5437\n",
      "Epoch 79 TestLoss 1.3722\n",
      "Epoch 79 TrainLoss 0.5601\n",
      "Time taken for 1 epoch 458.808917760849 sec\n",
      "\n",
      "Epoch 80 Batch 0 TrainLoss 0.5445\n",
      "Epoch 80 Batch 10 TrainLoss 0.5396\n",
      "Epoch 80 Batch 20 TrainLoss 0.5684\n",
      "Epoch 80 Batch 30 TrainLoss 0.5544\n",
      "Epoch 80 Batch 40 TrainLoss 0.5812\n",
      "Epoch 80 Batch 50 TrainLoss 0.5567\n",
      "Epoch 80 Batch 60 TrainLoss 0.5903\n",
      "Epoch 80 Batch 70 TrainLoss 0.5839\n",
      "Epoch 80 Batch 80 TrainLoss 0.5355\n",
      "Epoch 80 Batch 90 TrainLoss 0.5599\n",
      "Epoch 80 Batch 100 TrainLoss 0.5650\n",
      "Epoch 80 Batch 110 TrainLoss 0.5400\n",
      "Epoch 80 Batch 120 TrainLoss 0.5396\n",
      "Epoch 80 TestLoss 1.3543\n",
      "Epoch 80 TrainLoss 0.5607\n",
      "Time taken for 1 epoch 462.83437418937683 sec\n",
      "\n",
      "Epoch 81 Batch 0 TrainLoss 0.5449\n",
      "Epoch 81 Batch 10 TrainLoss 0.5368\n",
      "Epoch 81 Batch 20 TrainLoss 0.5596\n",
      "Epoch 81 Batch 30 TrainLoss 0.5503\n",
      "Epoch 81 Batch 40 TrainLoss 0.5616\n",
      "Epoch 81 Batch 50 TrainLoss 0.5505\n",
      "Epoch 81 Batch 60 TrainLoss 0.5536\n",
      "Epoch 81 Batch 70 TrainLoss 0.5720\n",
      "Epoch 81 Batch 80 TrainLoss 0.5307\n",
      "Epoch 81 Batch 90 TrainLoss 0.5433\n",
      "Epoch 81 Batch 100 TrainLoss 0.5687\n",
      "Epoch 81 Batch 110 TrainLoss 0.5381\n",
      "Epoch 81 Batch 120 TrainLoss 0.5456\n",
      "Epoch 81 TestLoss 1.3020\n",
      "Epoch 81 TrainLoss 0.5588\n",
      "Time taken for 1 epoch 457.9044101238251 sec\n",
      "\n",
      "Epoch 82 Batch 0 TrainLoss 0.5525\n",
      "Epoch 82 Batch 10 TrainLoss 0.5358\n",
      "Epoch 82 Batch 20 TrainLoss 0.5727\n",
      "Epoch 82 Batch 30 TrainLoss 0.5539\n",
      "Epoch 82 Batch 40 TrainLoss 0.5503\n",
      "Epoch 82 Batch 50 TrainLoss 0.5449\n",
      "Epoch 82 Batch 60 TrainLoss 0.5350\n",
      "Epoch 82 Batch 70 TrainLoss 0.5420\n",
      "Epoch 82 Batch 80 TrainLoss 0.5332\n",
      "Epoch 82 Batch 90 TrainLoss 0.5503\n",
      "Epoch 82 Batch 100 TrainLoss 0.5700\n",
      "Epoch 82 Batch 110 TrainLoss 0.5327\n",
      "Epoch 82 Batch 120 TrainLoss 0.5367\n",
      "Epoch 82 TestLoss 1.2939\n",
      "Epoch 82 TrainLoss 0.5532\n",
      "Time taken for 1 epoch 458.6612412929535 sec\n",
      "\n",
      "Epoch 83 Batch 0 TrainLoss 0.5435\n",
      "Epoch 83 Batch 10 TrainLoss 0.5409\n",
      "Epoch 83 Batch 20 TrainLoss 0.5612\n",
      "Epoch 83 Batch 30 TrainLoss 0.5585\n",
      "Epoch 83 Batch 40 TrainLoss 0.5594\n",
      "Epoch 83 Batch 50 TrainLoss 0.5405\n",
      "Epoch 83 Batch 60 TrainLoss 0.5634\n",
      "Epoch 83 Batch 70 TrainLoss 0.5437\n",
      "Epoch 83 Batch 80 TrainLoss 0.5336\n",
      "Epoch 83 Batch 90 TrainLoss 0.5458\n",
      "Epoch 83 Batch 100 TrainLoss 0.5744\n",
      "Epoch 83 Batch 110 TrainLoss 0.5545\n",
      "Epoch 83 Batch 120 TrainLoss 0.5492\n",
      "Epoch 83 TestLoss 1.3414\n",
      "Epoch 83 TrainLoss 0.5543\n",
      "Time taken for 1 epoch 457.87501883506775 sec\n",
      "\n",
      "Epoch 84 Batch 0 TrainLoss 0.5369\n",
      "Epoch 84 Batch 10 TrainLoss 0.5297\n",
      "Epoch 84 Batch 20 TrainLoss 0.5772\n",
      "Epoch 84 Batch 30 TrainLoss 0.5757\n",
      "Epoch 84 Batch 40 TrainLoss 0.5534\n",
      "Epoch 84 Batch 50 TrainLoss 0.5460\n",
      "Epoch 84 Batch 60 TrainLoss 0.5679\n",
      "Epoch 84 Batch 70 TrainLoss 0.5527\n",
      "Epoch 84 Batch 80 TrainLoss 0.5266\n",
      "Epoch 84 Batch 90 TrainLoss 0.5410\n",
      "Epoch 84 Batch 100 TrainLoss 0.5845\n",
      "Epoch 84 Batch 110 TrainLoss 0.5600\n",
      "Epoch 84 Batch 120 TrainLoss 0.5556\n",
      "Epoch 84 TestLoss 1.3444\n",
      "Epoch 84 TrainLoss 0.5623\n",
      "Time taken for 1 epoch 452.4594295024872 sec\n",
      "\n",
      "Epoch 85 Batch 0 TrainLoss 0.5515\n",
      "Epoch 85 Batch 10 TrainLoss 0.5427\n",
      "Epoch 85 Batch 20 TrainLoss 0.5796\n",
      "Epoch 85 Batch 30 TrainLoss 0.5604\n",
      "Epoch 85 Batch 40 TrainLoss 0.5698\n",
      "Epoch 85 Batch 50 TrainLoss 0.5571\n",
      "Epoch 85 Batch 60 TrainLoss 0.5744\n",
      "Epoch 85 Batch 70 TrainLoss 0.5415\n",
      "Epoch 85 Batch 80 TrainLoss 0.5362\n",
      "Epoch 85 Batch 90 TrainLoss 0.5592\n",
      "Epoch 85 Batch 100 TrainLoss 0.5771\n",
      "Epoch 85 Batch 110 TrainLoss 0.5472\n",
      "Epoch 85 Batch 120 TrainLoss 0.5567\n",
      "Epoch 85 TestLoss 1.3404\n",
      "Epoch 85 TrainLoss 0.5616\n",
      "Time taken for 1 epoch 450.5166959762573 sec\n",
      "\n",
      "Epoch 86 Batch 0 TrainLoss 0.5421\n",
      "Epoch 86 Batch 10 TrainLoss 0.5465\n",
      "Epoch 86 Batch 20 TrainLoss 0.5654\n",
      "Epoch 86 Batch 30 TrainLoss 0.5573\n",
      "Epoch 86 Batch 40 TrainLoss 0.5531\n",
      "Epoch 86 Batch 50 TrainLoss 0.5421\n",
      "Epoch 86 Batch 60 TrainLoss 0.5512\n",
      "Epoch 86 Batch 70 TrainLoss 0.5686\n",
      "Epoch 86 Batch 80 TrainLoss 0.5353\n",
      "Epoch 86 Batch 90 TrainLoss 0.5618\n",
      "Epoch 86 Batch 100 TrainLoss 0.5728\n",
      "Epoch 86 Batch 110 TrainLoss 0.5535\n",
      "Epoch 86 Batch 120 TrainLoss 0.5567\n",
      "Epoch 86 TestLoss 1.3242\n",
      "Epoch 86 TrainLoss 0.5546\n",
      "Time taken for 1 epoch 452.12879633903503 sec\n",
      "\n",
      "Epoch 87 Batch 0 TrainLoss 0.5299\n",
      "Epoch 87 Batch 10 TrainLoss 0.5357\n",
      "Epoch 87 Batch 20 TrainLoss 0.5646\n",
      "Epoch 87 Batch 30 TrainLoss 0.5378\n",
      "Epoch 87 Batch 40 TrainLoss 0.5315\n",
      "Epoch 87 Batch 50 TrainLoss 0.5367\n",
      "Epoch 87 Batch 60 TrainLoss 0.5421\n",
      "Epoch 87 Batch 70 TrainLoss 0.5479\n",
      "Epoch 87 Batch 80 TrainLoss 0.5410\n",
      "Epoch 87 Batch 90 TrainLoss 0.5457\n",
      "Epoch 87 Batch 100 TrainLoss 0.5733\n",
      "Epoch 87 Batch 110 TrainLoss 0.5530\n",
      "Epoch 87 Batch 120 TrainLoss 0.5491\n",
      "Epoch 87 TestLoss 1.3107\n",
      "Epoch 87 TrainLoss 0.5475\n",
      "Time taken for 1 epoch 449.48197650909424 sec\n",
      "\n",
      "Epoch 88 Batch 0 TrainLoss 0.5338\n",
      "Epoch 88 Batch 10 TrainLoss 0.5350\n",
      "Epoch 88 Batch 20 TrainLoss 0.5582\n",
      "Epoch 88 Batch 30 TrainLoss 0.5344\n",
      "Epoch 88 Batch 40 TrainLoss 0.5350\n",
      "Epoch 88 Batch 50 TrainLoss 0.5297\n",
      "Epoch 88 Batch 60 TrainLoss 0.5447\n",
      "Epoch 88 Batch 70 TrainLoss 0.5397\n",
      "Epoch 88 Batch 80 TrainLoss 0.5214\n",
      "Epoch 88 Batch 90 TrainLoss 0.5260\n",
      "Epoch 88 Batch 100 TrainLoss 0.5708\n",
      "Epoch 88 Batch 110 TrainLoss 0.5381\n",
      "Epoch 88 Batch 120 TrainLoss 0.5376\n",
      "Epoch 88 TestLoss 1.3777\n",
      "Epoch 88 TrainLoss 0.5443\n",
      "Time taken for 1 epoch 453.5841763019562 sec\n",
      "\n",
      "Epoch 89 Batch 0 TrainLoss 0.5404\n",
      "Epoch 89 Batch 10 TrainLoss 0.5316\n",
      "Epoch 89 Batch 20 TrainLoss 0.5620\n",
      "Epoch 89 Batch 30 TrainLoss 0.5500\n",
      "Epoch 89 Batch 40 TrainLoss 0.5374\n",
      "Epoch 89 Batch 50 TrainLoss 0.5376\n",
      "Epoch 89 Batch 60 TrainLoss 0.5347\n",
      "Epoch 89 Batch 70 TrainLoss 0.5426\n",
      "Epoch 89 Batch 80 TrainLoss 0.5173\n",
      "Epoch 89 Batch 90 TrainLoss 0.5267\n",
      "Epoch 89 Batch 100 TrainLoss 0.5591\n",
      "Epoch 89 Batch 110 TrainLoss 0.5332\n",
      "Epoch 89 Batch 120 TrainLoss 0.5576\n",
      "Epoch 89 TestLoss 1.3667\n",
      "Epoch 89 TrainLoss 0.5464\n",
      "Time taken for 1 epoch 453.99399971961975 sec\n",
      "\n",
      "Epoch 90 Batch 0 TrainLoss 0.5286\n",
      "Epoch 90 Batch 10 TrainLoss 0.5358\n",
      "Epoch 90 Batch 20 TrainLoss 0.5753\n",
      "Epoch 90 Batch 30 TrainLoss 0.5599\n",
      "Epoch 90 Batch 40 TrainLoss 0.5422\n",
      "Epoch 90 Batch 50 TrainLoss 0.5292\n",
      "Epoch 90 Batch 60 TrainLoss 0.5337\n",
      "Epoch 90 Batch 70 TrainLoss 0.5245\n",
      "Epoch 90 Batch 80 TrainLoss 0.5044\n",
      "Epoch 90 Batch 90 TrainLoss 0.5181\n",
      "Epoch 90 Batch 100 TrainLoss 0.5428\n",
      "Epoch 90 Batch 110 TrainLoss 0.5171\n",
      "Epoch 90 Batch 120 TrainLoss 0.5271\n",
      "Epoch 90 TestLoss 1.2980\n",
      "Epoch 90 TrainLoss 0.5410\n",
      "Time taken for 1 epoch 456.1502387523651 sec\n",
      "\n",
      "Epoch 91 Batch 0 TrainLoss 0.5179\n",
      "Epoch 91 Batch 10 TrainLoss 0.5341\n",
      "Epoch 91 Batch 20 TrainLoss 0.5479\n",
      "Epoch 91 Batch 30 TrainLoss 0.5253\n",
      "Epoch 91 Batch 40 TrainLoss 0.5349\n",
      "Epoch 91 Batch 50 TrainLoss 0.5298\n",
      "Epoch 91 Batch 60 TrainLoss 0.5331\n",
      "Epoch 91 Batch 70 TrainLoss 0.5257\n",
      "Epoch 91 Batch 80 TrainLoss 0.5041\n",
      "Epoch 91 Batch 90 TrainLoss 0.5052\n",
      "Epoch 91 Batch 100 TrainLoss 0.5264\n",
      "Epoch 91 Batch 110 TrainLoss 0.5106\n",
      "Epoch 91 Batch 120 TrainLoss 0.5123\n",
      "Epoch 91 TestLoss 1.2788\n",
      "Epoch 91 TrainLoss 0.5278\n",
      "Time taken for 1 epoch 454.734810590744 sec\n",
      "\n",
      "Epoch 92 Batch 0 TrainLoss 0.5149\n",
      "Epoch 92 Batch 10 TrainLoss 0.5187\n",
      "Epoch 92 Batch 20 TrainLoss 0.5377\n",
      "Epoch 92 Batch 30 TrainLoss 0.5261\n",
      "Epoch 92 Batch 40 TrainLoss 0.5230\n",
      "Epoch 92 Batch 50 TrainLoss 0.5234\n",
      "Epoch 92 Batch 60 TrainLoss 0.5210\n",
      "Epoch 92 Batch 70 TrainLoss 0.5199\n",
      "Epoch 92 Batch 80 TrainLoss 0.5032\n",
      "Epoch 92 Batch 90 TrainLoss 0.5109\n",
      "Epoch 92 Batch 100 TrainLoss 0.5288\n",
      "Epoch 92 Batch 110 TrainLoss 0.5042\n",
      "Epoch 92 Batch 120 TrainLoss 0.5104\n",
      "Epoch 92 TestLoss 1.2485\n",
      "Epoch 92 TrainLoss 0.5234\n",
      "Time taken for 1 epoch 459.0704417228699 sec\n",
      "\n",
      "Epoch 93 Batch 0 TrainLoss 0.5132\n",
      "Epoch 93 Batch 10 TrainLoss 0.5022\n",
      "Epoch 93 Batch 20 TrainLoss 0.5365\n",
      "Epoch 93 Batch 30 TrainLoss 0.5343\n",
      "Epoch 93 Batch 40 TrainLoss 0.5228\n",
      "Epoch 93 Batch 50 TrainLoss 0.5141\n",
      "Epoch 93 Batch 60 TrainLoss 0.5183\n",
      "Epoch 93 Batch 70 TrainLoss 0.5293\n",
      "Epoch 93 Batch 80 TrainLoss 0.5050\n",
      "Epoch 93 Batch 90 TrainLoss 0.5123\n",
      "Epoch 93 Batch 100 TrainLoss 0.5313\n",
      "Epoch 93 Batch 110 TrainLoss 0.5198\n",
      "Epoch 93 Batch 120 TrainLoss 0.5173\n",
      "Epoch 93 TestLoss 1.2722\n",
      "Epoch 93 TrainLoss 0.5266\n",
      "Time taken for 1 epoch 454.4629650115967 sec\n",
      "\n",
      "Epoch 94 Batch 0 TrainLoss 0.5120\n",
      "Epoch 94 Batch 10 TrainLoss 0.5195\n",
      "Epoch 94 Batch 20 TrainLoss 0.5401\n",
      "Epoch 94 Batch 30 TrainLoss 0.5499\n",
      "Epoch 94 Batch 40 TrainLoss 0.5400\n",
      "Epoch 94 Batch 50 TrainLoss 0.5380\n",
      "Epoch 94 Batch 60 TrainLoss 0.5318\n",
      "Epoch 94 Batch 70 TrainLoss 0.5299\n",
      "Epoch 94 Batch 80 TrainLoss 0.5153\n",
      "Epoch 94 Batch 90 TrainLoss 0.5251\n",
      "Epoch 94 Batch 100 TrainLoss 0.5575\n",
      "Epoch 94 Batch 110 TrainLoss 0.5272\n",
      "Epoch 94 Batch 120 TrainLoss 0.5285\n",
      "Epoch 94 TestLoss 1.2940\n",
      "Epoch 94 TrainLoss 0.5378\n",
      "Time taken for 1 epoch 455.7559914588928 sec\n",
      "\n",
      "Epoch 95 Batch 0 TrainLoss 0.5284\n",
      "Epoch 95 Batch 10 TrainLoss 0.5177\n",
      "Epoch 95 Batch 20 TrainLoss 0.5459\n",
      "Epoch 95 Batch 30 TrainLoss 0.5330\n",
      "Epoch 95 Batch 40 TrainLoss 0.5483\n",
      "Epoch 95 Batch 50 TrainLoss 0.5355\n",
      "Epoch 95 Batch 60 TrainLoss 0.5323\n",
      "Epoch 95 Batch 70 TrainLoss 0.5189\n",
      "Epoch 95 Batch 80 TrainLoss 0.5224\n",
      "Epoch 95 Batch 90 TrainLoss 0.5410\n",
      "Epoch 95 Batch 100 TrainLoss 0.5712\n",
      "Epoch 95 Batch 110 TrainLoss 0.5311\n",
      "Epoch 95 Batch 120 TrainLoss 0.5261\n",
      "Epoch 95 TestLoss 1.2742\n",
      "Epoch 95 TrainLoss 0.5343\n",
      "Time taken for 1 epoch 457.7331073284149 sec\n",
      "\n",
      "Epoch 96 Batch 0 TrainLoss 0.5145\n",
      "Epoch 96 Batch 10 TrainLoss 0.5248\n",
      "Epoch 96 Batch 20 TrainLoss 0.5341\n",
      "Epoch 96 Batch 30 TrainLoss 0.5286\n",
      "Epoch 96 Batch 40 TrainLoss 0.5330\n",
      "Epoch 96 Batch 50 TrainLoss 0.5366\n",
      "Epoch 96 Batch 60 TrainLoss 0.5361\n",
      "Epoch 96 Batch 70 TrainLoss 0.5409\n",
      "Epoch 96 Batch 80 TrainLoss 0.5135\n",
      "Epoch 96 Batch 90 TrainLoss 0.5292\n",
      "Epoch 96 Batch 100 TrainLoss 0.5509\n",
      "Epoch 96 Batch 110 TrainLoss 0.5255\n",
      "Epoch 96 Batch 120 TrainLoss 0.5294\n",
      "Epoch 96 TestLoss 1.2967\n",
      "Epoch 96 TrainLoss 0.5337\n",
      "Time taken for 1 epoch 470.15919613838196 sec\n",
      "\n",
      "Epoch 97 Batch 0 TrainLoss 0.5204\n",
      "Epoch 97 Batch 10 TrainLoss 0.5229\n",
      "Epoch 97 Batch 20 TrainLoss 0.5524\n",
      "Epoch 97 Batch 30 TrainLoss 0.5366\n",
      "Epoch 97 Batch 40 TrainLoss 0.5403\n",
      "Epoch 97 Batch 50 TrainLoss 0.5399\n",
      "Epoch 97 Batch 60 TrainLoss 0.5357\n",
      "Epoch 97 Batch 70 TrainLoss 0.5338\n",
      "Epoch 97 Batch 80 TrainLoss 0.5014\n",
      "Epoch 97 Batch 90 TrainLoss 0.5107\n",
      "Epoch 97 Batch 100 TrainLoss 0.5379\n",
      "Epoch 97 Batch 110 TrainLoss 0.5194\n",
      "Epoch 97 Batch 120 TrainLoss 0.5376\n",
      "Epoch 97 TestLoss 1.3057\n",
      "Epoch 97 TrainLoss 0.5340\n",
      "Time taken for 1 epoch 462.46337842941284 sec\n",
      "\n",
      "Epoch 98 Batch 0 TrainLoss 0.5202\n",
      "Epoch 98 Batch 10 TrainLoss 0.5236\n",
      "Epoch 98 Batch 20 TrainLoss 0.5452\n",
      "Epoch 98 Batch 30 TrainLoss 0.5235\n",
      "Epoch 98 Batch 40 TrainLoss 0.5373\n",
      "Epoch 98 Batch 50 TrainLoss 0.5241\n",
      "Epoch 98 Batch 60 TrainLoss 0.5252\n",
      "Epoch 98 Batch 70 TrainLoss 0.5217\n",
      "Epoch 98 Batch 80 TrainLoss 0.5082\n",
      "Epoch 98 Batch 90 TrainLoss 0.5050\n",
      "Epoch 98 Batch 100 TrainLoss 0.5241\n",
      "Epoch 98 Batch 110 TrainLoss 0.5111\n",
      "Epoch 98 Batch 120 TrainLoss 0.5300\n",
      "Epoch 98 TestLoss 1.3400\n",
      "Epoch 98 TrainLoss 0.5267\n",
      "Time taken for 1 epoch 453.6733891963959 sec\n",
      "\n",
      "Epoch 99 Batch 0 TrainLoss 0.5041\n",
      "Epoch 99 Batch 10 TrainLoss 0.5078\n",
      "Epoch 99 Batch 20 TrainLoss 0.5342\n",
      "Epoch 99 Batch 30 TrainLoss 0.5289\n",
      "Epoch 99 Batch 40 TrainLoss 0.5410\n",
      "Epoch 99 Batch 50 TrainLoss 0.5224\n",
      "Epoch 99 Batch 60 TrainLoss 0.5256\n",
      "Epoch 99 Batch 70 TrainLoss 0.5297\n",
      "Epoch 99 Batch 80 TrainLoss 0.5053\n",
      "Epoch 99 Batch 90 TrainLoss 0.5124\n",
      "Epoch 99 Batch 100 TrainLoss 0.5237\n",
      "Epoch 99 Batch 110 TrainLoss 0.5225\n",
      "Epoch 99 Batch 120 TrainLoss 0.5161\n",
      "Epoch 99 TestLoss 1.3312\n",
      "Epoch 99 TrainLoss 0.5252\n",
      "Time taken for 1 epoch 456.6528193950653 sec\n",
      "\n",
      "Epoch 100 Batch 0 TrainLoss 0.5086\n",
      "Epoch 100 Batch 10 TrainLoss 0.5315\n",
      "Epoch 100 Batch 20 TrainLoss 0.5353\n",
      "Epoch 100 Batch 30 TrainLoss 0.5308\n",
      "Epoch 100 Batch 40 TrainLoss 0.5432\n",
      "Epoch 100 Batch 50 TrainLoss 0.5241\n",
      "Epoch 100 Batch 60 TrainLoss 0.5336\n",
      "Epoch 100 Batch 70 TrainLoss 0.5218\n",
      "Epoch 100 Batch 80 TrainLoss 0.5067\n",
      "Epoch 100 Batch 90 TrainLoss 0.5130\n",
      "Epoch 100 Batch 100 TrainLoss 0.5276\n",
      "Epoch 100 Batch 110 TrainLoss 0.5231\n",
      "Epoch 100 Batch 120 TrainLoss 0.5219\n",
      "Epoch 100 TestLoss 1.3372\n",
      "Epoch 100 TrainLoss 0.5246\n",
      "Time taken for 1 epoch 458.3379006385803 sec\n",
      "\n"
     ]
    }
   ],
   "source": [
    "EPOCHS = 100\n",
    "train_loss_history = []\n",
    "test_loss_history = []\n",
    "from google.colab import files\n",
    "for epoch in range(EPOCHS):\n",
    "  start = time.time()\n",
    "  enc_hidden, enc_cell = encoder.initialize_hidden_state()\n",
    "  total_loss = 0\n",
    "\n",
    "#   if epoch%25==0 and epoch!=0:\n",
    "#     learning_rate = learning_rate/(epoch//25+1)\n",
    "#     print(\"-----------------------------------------------\")\n",
    "#     print(learning_rate)\n",
    "#     optimizer = tf.train.AdamOptimizer(learning_rate=learning_rate) \n",
    "  for (batch, (inp, targ)) in enumerate(dataset.take(steps_per_epoch)):\n",
    "    batch_loss = train_step(inp, targ, enc_hidden, enc_cell)\n",
    "    total_loss += batch_loss\n",
    "    train_loss_history.append(batch_loss.numpy())\n",
    "    \n",
    "    if batch % 10 == 0:\n",
    "        print('Epoch {} Batch {} TrainLoss {:.4f}'.format(epoch + 1,\n",
    "                                                     batch,\n",
    "                                                     batch_loss.numpy()))\n",
    "  # saving (checkpoint) the model every 2 epochs\n",
    "  if (epoch + 1) % 2 == 0:\n",
    "    checkpoint.save(file_prefix = checkpoint_prefix)\n",
    "    \n",
    "  enc_hidden_test = tf.zeros((input_tensor_val.shape[0], units))\n",
    "  enc_cell_test = tf.zeros((input_tensor_val.shape[0], units))\n",
    "  test_loss = test_step(tf.convert_to_tensor(input_tensor_val),\n",
    "                       tf.convert_to_tensor(target_tensor_val),\n",
    "                       enc_hidden_test, enc_cell_test)\n",
    "  test_loss_history.append(test_loss.numpy())\n",
    "  print('Epoch {} TestLoss {:.4f}'.format(epoch + 1, test_loss.numpy()))\n",
    "\n",
    "  print('Epoch {} TrainLoss {:.4f}'.format(epoch + 1,\n",
    "                                      total_loss / steps_per_epoch))\n",
    "  print('Time taken for 1 epoch {} sec\\n'.format(time.time() - start))"
   ]
  },
  {
   "cell_type": "markdown",
   "metadata": {},
   "source": [
    "## 4.1 Evaluation Train Test Loss Plots"
   ]
  },
  {
   "cell_type": "code",
   "execution_count": 0,
   "metadata": {
    "colab": {},
    "colab_type": "code",
    "id": "d-589ns3ONSz"
   },
   "outputs": [],
   "source": [
    "##Reload the training and test loss from the saved txt:\n",
    "train_loss_history = []\n",
    "test_loss_history = []\n",
    "with open('100EpochLSTMResults.txt') as file:\n",
    "  for line in file:\n",
    "    line = line.strip()\n",
    "    line = line.split()\n",
    "    if len(line)>2:\n",
    "      if line[-2]=='TrainLoss' and len(line)>4:\n",
    "        train_loss_history.append(float(line[-1][:-1]))\n",
    "      elif line[-2] == 'TestLoss':\n",
    "        test_loss_history.append(float(line[-1][:-1]))"
   ]
  },
  {
   "cell_type": "code",
   "execution_count": 46,
   "metadata": {
    "colab": {
     "base_uri": "https://localhost:8080/",
     "height": 385
    },
    "colab_type": "code",
    "id": "66er6athB_lG",
    "outputId": "08882bbf-301e-497d-f465-deb6ccd69def"
   },
   "outputs": [
    {
     "data": {
      "text/plain": [
       "Text(0, 0.5, 'Training Loss')"
      ]
     },
     "execution_count": 46,
     "metadata": {
      "tags": []
     },
     "output_type": "execute_result"
    },
    {
     "data": {
      "image/png": "[encoded data removed]",
      "text/plain": [
       "<Figure size 576x396 with 1 Axes>"
      ]
     },
     "metadata": {
      "tags": []
     },
     "output_type": "display_data"
    }
   ],
   "source": [
    "plt.plot(train_loss_history)\n",
    "plt.xlabel('Iterations', fontsize=18)\n",
    "plt.ylabel('Training Loss', fontsize=18)"
   ]
  },
  {
   "cell_type": "code",
   "execution_count": 45,
   "metadata": {
    "colab": {
     "base_uri": "https://localhost:8080/",
     "height": 385
    },
    "colab_type": "code",
    "id": "nSdD3z4Fpt_W",
    "outputId": "7eefbf87-e4a4-4882-ff45-8ec115476745",
    "scrolled": true
   },
   "outputs": [
    {
     "data": {
      "text/plain": [
       "Text(0, 0.5, 'Test Loss')"
      ]
     },
     "execution_count": 45,
     "metadata": {
      "tags": []
     },
     "output_type": "execute_result"
    },
    {
     "data": {
      "image/png": "[encoded data removed]",
      "text/plain": [
       "<Figure size 576x396 with 1 Axes>"
      ]
     },
     "metadata": {
      "tags": []
     },
     "output_type": "display_data"
    }
   ],
   "source": [
    "plt.plot(test_loss_history)\n",
    "plt.xlabel('Iterations', fontsize=18)\n",
    "plt.ylabel('Test Loss', fontsize=18)"
   ]
  },
  {
   "cell_type": "markdown",
   "metadata": {},
   "source": [
    "## 4.2 Reload the checkpoint for quantitative evaluation\n",
    " **Translate the English into French **"
   ]
  },
  {
   "cell_type": "code",
   "execution_count": 47,
   "metadata": {
    "colab": {
     "base_uri": "https://localhost:8080/",
     "height": 34
    },
    "colab_type": "code",
    "id": "pYL9idWND7Tb",
    "outputId": "7afafcd8-8850-430d-c126-be9fd4844f6c"
   },
   "outputs": [
    {
     "data": {
      "text/plain": [
       "<tensorflow.python.training.tracking.util.CheckpointLoadStatus at 0x7fabb9d6c668>"
      ]
     },
     "execution_count": 47,
     "metadata": {
      "tags": []
     },
     "output_type": "execute_result"
    }
   ],
   "source": [
    "## Restore the last saved checkpoint\n",
    "checkpoint.restore('./ckpt-48')"
   ]
  },
  {
   "cell_type": "code",
   "execution_count": 0,
   "metadata": {
    "colab": {},
    "colab_type": "code",
    "id": "QMVRsYXmbLS1"
   },
   "outputs": [],
   "source": [
    "def evaluate(sentence):    \n",
    "    sentence = preprocess_sentence(sentence)\n",
    "\n",
    "    inputs = [inp_lang.word_index[i] for i in sentence.split(' ')]\n",
    "    inputs = tf.keras.preprocessing.sequence.pad_sequences([inputs], \n",
    "                                                           maxlen=max_length_inp, \n",
    "                                                           padding='post')\n",
    "    inputs = tf.convert_to_tensor(inputs)\n",
    "\n",
    "    result = ''\n",
    "\n",
    "    hidden1 = tf.zeros((1, units))\n",
    "    hidden2 = tf.zeros((1, units))\n",
    "    enc_output, enc_hidden, enc_cell = encoder(inputs, hidden1, hidden2)\n",
    "\n",
    "    dec_hidden, dec_cell = enc_hidden, enc_cell\n",
    "    dec_input = tf.expand_dims([targ_lang.word_index['<start>']], 0)\n",
    "    \n",
    "    for t in range(max_length_targ):\n",
    "      logits, dec_hidden,dec_cell = decoder(dec_input, dec_hidden,dec_cell)\n",
    "\n",
    "      logits = tf.reshape(logits, (-1,logits.shape[2]))\n",
    "      predicted_id = tf.argmax(logits[0]).numpy()\n",
    "           \n",
    "\n",
    "      result += targ_lang.index_word[predicted_id] + ' '\n",
    "\n",
    "      if targ_lang.index_word[predicted_id] == '<end>':\n",
    "        return result, sentence, dec_hidden#, attention_plot\n",
    "        \n",
    "        # the predicted ID is fed back into the model\n",
    "      dec_input = tf.expand_dims([predicted_id], 0)\n",
    "\n",
    "    return result, sentence, dec_hidden"
   ]
  },
  {
   "cell_type": "code",
   "execution_count": 0,
   "metadata": {
    "colab": {},
    "colab_type": "code",
    "id": "YdsZd5UpXBvN"
   },
   "outputs": [],
   "source": [
    "def translate(sentence):\n",
    "    result,sentence,dec_hidden = evaluate(sentence)            \n",
    "    print('Input: %s' % (sentence).encode('utf-8'))\n",
    "    print('Predicted translation: {}'.format(result))\n",
    "    return dec_hidden"
   ]
  },
  {
   "cell_type": "code",
   "execution_count": 86,
   "metadata": {
    "colab": {
     "base_uri": "https://localhost:8080/",
     "height": 238
    },
    "colab_type": "code",
    "id": "gFizlCaMe6ii",
    "outputId": "04bbd21e-0d5e-4829-9895-85782d47def1"
   },
   "outputs": [
    {
     "name": "stdout",
     "output_type": "stream",
     "text": [
      "Input: b'<start> i want to be with tom . <end>'\n",
      "Predicted translation: je veux une liste . <end> \n",
      "Input: b'<start> i want to be with you . <end>'\n",
      "Predicted translation: je veux travailler . <end> \n",
      "Input: b'<start> i want to go with you . <end>'\n",
      "Predicted translation: je veux venir . <end> \n",
      "Input: b'<start> i want to go to tokyo . <end>'\n",
      "Predicted translation: je veux partir . <end> \n",
      "Input: b'<start> i want to believe you . <end>'\n",
      "Predicted translation: je veux partir . <end> \n",
      "Input: b'<start> i like this answer . <end>'\n",
      "Predicted translation: j aime ca . <end> \n",
      "(6, 1024)\n"
     ]
    }
   ],
   "source": [
    "sentences_Eng = [u'I want to be with Tom.', u'I want to be with you.',\n",
    "                 u'I want to go with you.',\n",
    "                u'I want to go to Tokyo.',\n",
    "                u'I want to believe you.',\n",
    "                u'I like this answer.']\n",
    "pca_hidden = []\n",
    "for sentence in sentences_Eng:\n",
    "  dec_hidden = translate(sentence)\n",
    "  pca_hidden.append(dec_hidden.numpy().reshape(1024,))\n",
    "pca_hidden = np.asarray(pca_hidden)\n",
    "print(pca_hidden.shape)"
   ]
  },
  {
   "cell_type": "code",
   "execution_count": 109,
   "metadata": {
    "colab": {
     "base_uri": "https://localhost:8080/",
     "height": 102
    },
    "colab_type": "code",
    "id": "mgqhkbGzBko6",
    "outputId": "ee7bc95a-f12b-4708-f779-2594a16e2cfd"
   },
   "outputs": [
    {
     "name": "stdout",
     "output_type": "stream",
     "text": [
      "Input: b'<start> when do we eat ? <end>'\n",
      "Predicted translation: est ce les votres ? <end> \n"
     ]
    },
    {
     "data": {
      "text/plain": [
       "<tf.Tensor: id=165968, shape=(1, 1024), dtype=float32, numpy=\n",
       "array([[-0.10637847,  0.29853177,  0.5451261 , ...,  0.08465184,\n",
       "        -0.677047  ,  0.03048863]], dtype=float32)>"
      ]
     },
     "execution_count": 109,
     "metadata": {
      "tags": []
     },
     "output_type": "execute_result"
    }
   ],
   "source": [
    "translate(u'when do we eat ?')"
   ]
  },
  {
   "cell_type": "code",
   "execution_count": null,
   "metadata": {},
   "outputs": [],
   "source": [
    "from sklearn.decomposition import PCA\n",
    "pca = PCA(n_components = 2)\n",
    "hidden_transform = pca.fit(pca_hidden).transform(pca_hidden)"
   ]
  },
  {
   "cell_type": "code",
   "execution_count": 102,
   "metadata": {
    "colab": {
     "base_uri": "https://localhost:8080/",
     "height": 347
    },
    "colab_type": "code",
    "id": "20MicU8l0u_1",
    "outputId": "1b09b1ad-8375-4f80-a4ea-170e7d5f842e"
   },
   "outputs": [
    {
     "data": {
      "image/png": "[encoded data removed]",
      "text/plain": [
       "<Figure size 576x396 with 1 Axes>"
      ]
     },
     "metadata": {
      "tags": []
     },
     "output_type": "display_data"
    }
   ],
   "source": [
    "i=0\n",
    "for x,y in hidden_transform:\n",
    "    plt.scatter(x,y, alpha=.8, label=sentences_Eng[i])\n",
    "    plt.legend()\n",
    "    i+=1"
   ]
  },
  {
   "cell_type": "markdown",
   "metadata": {},
   "source": [
    "As shown in the graph above, 'I want to go with you', 'I want to go to Tokyo' are very close to each other in the plot. 'I want to be with Tom ' and 'I want to be with you' are very close to each other. 'I like this answer' are semantically apart from the other five sentences. However, the translation is not that perfect as project 'I want to believe you' into a similar space as 'I want to go to Tokyo'."
   ]
  },
  {
   "cell_type": "code",
   "execution_count": 36,
   "metadata": {
    "colab": {
     "base_uri": "https://localhost:8080/",
     "height": 289
    },
    "colab_type": "code",
    "id": "yGGmnuSbcaN4",
    "outputId": "09bcfa6b-b275-46b4-ab49-c27b826caba9"
   },
   "outputs": [
    {
     "name": "stdout",
     "output_type": "stream",
     "text": [
      "Input Language; index to word mapping\n",
      "1 ----> <start>\n",
      "679 ----> when\n",
      "27 ----> do\n",
      "12 ----> we\n",
      "113 ----> eat\n",
      "6 ----> ?\n",
      "2 ----> <end>\n",
      "\n",
      "Target Language; index to word mapping\n",
      "1 ----> <start>\n",
      "643 ----> quand\n",
      "1378 ----> mangeons\n",
      "11 ----> nous\n",
      "7 ----> ?\n",
      "2 ----> <end>\n"
     ]
    }
   ],
   "source": [
    "print (\"Input Language; index to word mapping\")\n",
    "convert(inp_lang, input_tensor_val[6])\n",
    "print ()\n",
    "print (\"Target Language; index to word mapping\")\n",
    "convert(targ_lang, target_tensor_val[6])"
   ]
  },
  {
   "cell_type": "code",
   "execution_count": 107,
   "metadata": {
    "colab": {
     "base_uri": "https://localhost:8080/",
     "height": 272
    },
    "colab_type": "code",
    "id": "TY4bbMZUvBpl",
    "outputId": "59eed3d7-1e72-43bd-a598-4f3b969eb195"
   },
   "outputs": [
    {
     "name": "stdout",
     "output_type": "stream",
     "text": [
      "Input Language; index to word mapping\n",
      "1 ----> <start>\n",
      "12 ----> we\n",
      "47 ----> all\n",
      "68 ----> know\n",
      "3 ----> .\n",
      "2 ----> <end>\n",
      "Target Language; index to word mapping\n",
      "1 ----> <start>\n",
      "11 ----> nous\n",
      "17 ----> le\n",
      "490 ----> savons\n",
      "117 ----> toutes\n",
      "3 ----> .\n",
      "2 ----> <end>\n"
     ]
    }
   ],
   "source": [
    "print (\"Input Language; index to word mapping\")\n",
    "convert(inp_lang, input_tensor_train[19])\n",
    "print (\"Target Language; index to word mapping\")\n",
    "convert(targ_lang, target_tensor_train[19])\n"
   ]
  },
  {
   "cell_type": "markdown",
   "metadata": {
    "colab_type": "text",
    "id": "DE0eXiXl_HK9"
   },
   "source": [
    "### A few samples produced by LSTM ###\n",
    "\n",
    "| **Type** |**Sentence**  |\n",
    "|------|------|\n",
    "|  **Input** |  '<start\\> i ll marry you . <end\\>'|\n",
    "|   My model  | 'je vous epouserai . <end\\>'|\n",
    "|   Truth  |'<start\\> je vous epouserai . <end\\>' |\n",
    "|  **Input** |  '<start\\> you re lying ! <end\\>'|\n",
    "|   My model  | 'tu es ! <end\\>'|\n",
    "|   Truth  | '<start\\> tu mens ! <end\\>' |\n",
    "|  **Input** |  '<start\\> we all know . <end\\>'|\n",
    "|   My model  | 'nous le savons tous . <end\\>'|\n",
    "|   Truth  | '<start\\> 'nous le savons toutes . <end\\>' |\n",
    "| **Input** |  '<start\\> when do we eat ? <end\\>'|\n",
    "|   My model  | 'est ce les votres ? <end\\>'|\n",
    "|   Truth  | '<start\\> 'quand mangeons nous ? <end\\>' |\n"
   ]
  }
 ],
 "metadata": {
  "accelerator": "GPU",
  "colab": {
   "collapsed_sections": [],
   "name": "Assignment_3.ipynb",
   "provenance": [],
   "version": "0.3.2"
  },
  "kernelspec": {
   "display_name": "Python 3",
   "language": "python",
   "name": "python3"
  },
  "language_info": {
   "codemirror_mode": {
    "name": "ipython",
    "version": 3
   },
   "file_extension": ".py",
   "mimetype": "text/x-python",
   "name": "python",
   "nbconvert_exporter": "python",
   "pygments_lexer": "ipython3",
   "version": "3.6.8"
  }
 },
 "nbformat": 4,
 "nbformat_minor": 1
}
